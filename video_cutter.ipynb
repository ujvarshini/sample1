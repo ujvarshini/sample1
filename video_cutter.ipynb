{
 "cells": [
  {
   "cell_type": "code",
   "execution_count": 1,
   "id": "7567c040",
   "metadata": {
    "scrolled": true
   },
   "outputs": [
    {
     "name": "stdout",
     "output_type": "stream",
     "text": [
      "Moviepy - Building video C:/Users/varshiniuj/Documents/code/colorise/Kalathur_Kannama.mp4.\n",
      "MoviePy - Writing audio in Kalathur_KannamaTEMP_MPY_wvf_snd.mp3\n"
     ]
    },
    {
     "name": "stderr",
     "output_type": "stream",
     "text": [
      "                                                                                                                       \r"
     ]
    },
    {
     "name": "stdout",
     "output_type": "stream",
     "text": [
      "MoviePy - Done.\n",
      "Moviepy - Writing video C:/Users/varshiniuj/Documents/code/colorise/Kalathur_Kannama.mp4\n",
      "\n"
     ]
    },
    {
     "name": "stderr",
     "output_type": "stream",
     "text": [
      "                                                                                                                       \r"
     ]
    },
    {
     "name": "stdout",
     "output_type": "stream",
     "text": [
      "Moviepy - Done !\n",
      "Moviepy - video ready C:/Users/varshiniuj/Documents/code/colorise/Kalathur_Kannama.mp4\n"
     ]
    }
   ],
   "source": [
    "\n",
    "import moviepy.editor as mp\n",
    "filename = 'C:/Users/varshiniuj/Documents/code/colorise/Kalathur_Kannama_-_Kamal_informs_about_his_drama(480p).mp4'\n",
    "video = mp.VideoFileClip(filename)\n",
    "\n",
    "# delete video fragment from 00:30 to 01:00\n",
    "segments = [(30,50)]\n",
    "\n",
    "clips = []  # list of all video fragments\n",
    "for start_seconds, end_seconds in segments:\n",
    "    # crop a video clip and add it to list\n",
    "    c = video.subclip(start_seconds, end_seconds)\n",
    "    clips.append(c)\n",
    "\n",
    "final_clip = mp.concatenate_videoclips(clips)\n",
    "final_clip.write_videofile(\"C:/Users/varshiniuj/Documents/code/colorise/Kalathur_Kannama.mp4\",codec='libx264')\n",
    "final_clip.close()"
   ]
  },
  {
   "cell_type": "code",
   "execution_count": 9,
   "id": "861b1add",
   "metadata": {},
   "outputs": [
    {
     "name": "stdout",
     "output_type": "stream",
     "text": [
      "2\n",
      "3\n",
      "4\n",
      "5\n"
     ]
    }
   ],
   "source": [
    "\n",
    "import moviepy.editor as mp\n",
    "filename = 'C:/Users/varshiniuj/Documents/calibrate/test_cloudy_wide_angle_133800_c3_001.avi'\n",
    "pathOut = r\"C:/Users/varshiniuj/Documents/calibrate/test/\"\n",
    "video = mp.VideoFileClip(filename)\n",
    "\n",
    "# delete video fragment from 00:30 to 01:00\n",
    "t = [(2,5)]\n",
    "\n",
    "clips = []  # list of all video fragments\n",
    "for start_seconds, end_seconds in t:\n",
    "    while start_seconds!= end_seconds+1:\n",
    "        #print(start_seconds, end_seconds)\n",
    "        print(start_seconds)\n",
    "    # crop a video clip and add it to list\n",
    "    #c = video.subclip(start_seconds, end_seconds)\n",
    "        c = video.save_frame(f\"C:/Users/varshiniuj/Documents/calibrate/test/frame{start_seconds}.JPG\", start_seconds)\n",
    "        start_seconds+=1\n",
    "        \n",
    "        clips.append(c)"
   ]
  },
  {
   "cell_type": "code",
   "execution_count": 6,
   "id": "7702fa57",
   "metadata": {},
   "outputs": [
    {
     "ename": "AttributeError",
     "evalue": "'VideoClip' object has no attribute 'read'",
     "output_type": "error",
     "traceback": [
      "\u001b[1;31m---------------------------------------------------------------------------\u001b[0m",
      "\u001b[1;31mAttributeError\u001b[0m                            Traceback (most recent call last)",
      "\u001b[1;32mC:\\Users\\VARSHI~1\\AppData\\Local\\Temp/ipykernel_8656/2700535371.py\u001b[0m in \u001b[0;36m<module>\u001b[1;34m\u001b[0m\n\u001b[0;32m     14\u001b[0m     \u001b[0mvidcap\u001b[0m \u001b[1;33m=\u001b[0m \u001b[0mmp\u001b[0m\u001b[1;33m.\u001b[0m\u001b[0mconcatenate_videoclips\u001b[0m\u001b[1;33m(\u001b[0m\u001b[0mclips\u001b[0m\u001b[1;33m)\u001b[0m\u001b[1;33m\u001b[0m\u001b[1;33m\u001b[0m\u001b[0m\n\u001b[0;32m     15\u001b[0m     \u001b[1;32mwhile\u001b[0m \u001b[0msuccess\u001b[0m\u001b[1;33m:\u001b[0m\u001b[1;33m\u001b[0m\u001b[1;33m\u001b[0m\u001b[0m\n\u001b[1;32m---> 16\u001b[1;33m         \u001b[0msuccess\u001b[0m\u001b[1;33m,\u001b[0m\u001b[0mimage\u001b[0m \u001b[1;33m=\u001b[0m \u001b[0mvidcap\u001b[0m\u001b[1;33m.\u001b[0m\u001b[0mread\u001b[0m\u001b[1;33m(\u001b[0m\u001b[1;33m)\u001b[0m\u001b[1;33m\u001b[0m\u001b[1;33m\u001b[0m\u001b[0m\n\u001b[0m\u001b[0;32m     17\u001b[0m         \u001b[0mprint\u001b[0m\u001b[1;33m(\u001b[0m\u001b[1;34m'read a new frame:'\u001b[0m\u001b[1;33m,\u001b[0m\u001b[0msuccess\u001b[0m\u001b[1;33m)\u001b[0m\u001b[1;33m\u001b[0m\u001b[1;33m\u001b[0m\u001b[0m\n\u001b[0;32m     18\u001b[0m         \u001b[1;32mif\u001b[0m \u001b[0mcount\u001b[0m\u001b[1;33m%\u001b[0m\u001b[1;36m30\u001b[0m \u001b[1;33m==\u001b[0m \u001b[1;36m0\u001b[0m \u001b[1;33m:\u001b[0m\u001b[1;33m\u001b[0m\u001b[1;33m\u001b[0m\u001b[0m\n",
      "\u001b[1;31mAttributeError\u001b[0m: 'VideoClip' object has no attribute 'read'"
     ]
    }
   ],
   "source": [
    "import moviepy.editor as mp\n",
    "filename = 'C:/Users/varshiniuj/Documents/calibrate/test_cloudy_wide_angle_133800_c3_001.avi'\n",
    "pathOut = r\"C:/Users/varshiniuj/Documents/calibrate/test/\"\n",
    "video = mp.VideoFileClip(filename)\n",
    "count = 0\n",
    "i = 0\n",
    "success = True\n",
    "segments = [(2,5)]\n",
    "\n",
    "for start_seconds, end_seconds in segments:\n",
    "    clips =[]\n",
    "    c = video.subclip(start_seconds, end_seconds)\n",
    "    clips.append(c)\n",
    "    vidcap = mp.concatenate_videoclips(clips)\n",
    "    while success:\n",
    "        success,image = vidcap.read()\n",
    "        print('read a new frame:',success)\n",
    "        if count%30 == 0 :\n",
    "            i +=1\n",
    "            cv2.imwrite(pathOut + f'frame{i}.jpg',image)\n",
    "        count+=1"
   ]
  },
  {
   "cell_type": "code",
   "execution_count": null,
   "id": "85a2a9d9",
   "metadata": {},
   "outputs": [],
   "source": [
    "#VIDEO FORMAT CONVERTER\n",
    "import moviepy.editor as mp\n",
    "\n",
    "clip = mp.VideoFileClip(\"Awesome JavaScript Text Typing Animation Example - TyperJS.gif\")\n",
    "clip.write_videofile(\"Awesome JavaScript Text Typing Animation Example - TyperJS.mp4\")\n",
    "clip.write_videofile(\"Awesome JavaScript Text Typing Animation Example - TyperJS.avi\", codec='libx264')\n",
    "\n",
    "clip.close()"
   ]
  }
 ],
 "metadata": {
  "kernelspec": {
   "display_name": "Python 3 (ipykernel)",
   "language": "python",
   "name": "python3"
  },
  "language_info": {
   "codemirror_mode": {
    "name": "ipython",
    "version": 3
   },
   "file_extension": ".py",
   "mimetype": "text/x-python",
   "name": "python",
   "nbconvert_exporter": "python",
   "pygments_lexer": "ipython3",
   "version": "3.9.7"
  }
 },
 "nbformat": 4,
 "nbformat_minor": 5
}
